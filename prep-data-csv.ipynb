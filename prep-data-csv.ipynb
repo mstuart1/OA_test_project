{
 "cells": [
  {
   "cell_type": "markdown",
   "metadata": {},
   "source": [
    "## Setup "
   ]
  },
  {
   "cell_type": "code",
   "execution_count": 2,
   "metadata": {},
   "outputs": [
    {
     "name": "stderr",
     "output_type": "stream",
     "text": [
      "\n",
      "Attaching package: ‘dplyr’\n",
      "\n",
      "\n",
      "The following objects are masked from ‘package:stats’:\n",
      "\n",
      "    filter, lag\n",
      "\n",
      "\n",
      "The following objects are masked from ‘package:base’:\n",
      "\n",
      "    intersect, setdiff, setequal, union\n",
      "\n",
      "\n"
     ]
    }
   ],
   "source": [
    "library(readr)\n",
    "library(purrr)\n",
    "library(dplyr)\n",
    "library(stringr)"
   ]
  },
  {
   "cell_type": "markdown",
   "metadata": {},
   "source": [
    "## Grab the data\n",
    "I would normally grab this data straight from [the source](https://www.fisheries.noaa.gov/alaska/commercial-fishing/alaska-groundfish-bottom-trawl-survey-data#additional-resources), however errors in the multibyte string of the zip files make that difficult.  It is easier to grab the csv files from our [github repo](https://github.com/pinskylab/OceanAdapt/tree/master/data_raw)."
   ]
  },
  {
   "cell_type": "markdown",
   "metadata": {},
   "source": [
    "*Special fix*  \n",
    "There is a comment that contains a comma in the 2014-2018 file that causes the delimiters to read incorrectly."
   ]
  },
  {
   "cell_type": "code",
   "execution_count": 4,
   "metadata": {},
   "outputs": [],
   "source": [
    "temp <- read_lines(\"https://github.com/pinskylab/OceanAdapt/blob/master/data_raw/ai2014_2018.csv?raw=true\")\n",
    "# replace the string that causes the problem\n",
    "temp_fixed <- stringr::str_replace_all(temp, \"Stone et al., 2011\", \"Stone et al. 2011\")\n",
    "# read the result in as a csv\n",
    "temp_csv <- read_csv(temp_fixed)"
   ]
  },
  {
   "cell_type": "markdown",
   "metadata": {},
   "source": [
    "The following block takes a list of urls that represent csv files and uses the R package purrr to iterate through reading in each file.  Then it adds in the file we fixed above, removes wonky rows and whitespace, and puts all of the data into one table.  It is expected that there will be a warning message about 13 parsing failures, which is the original read in of the extra header row before we fix it with the filter."
   ]
  },
  {
   "cell_type": "code",
   "execution_count": 7,
   "metadata": {},
   "outputs": [
    {
     "name": "stderr",
     "output_type": "stream",
     "text": [
      "Parsed with column specification:\n",
      "cols(\n",
      "  LATITUDE = \u001b[32mcol_double()\u001b[39m,\n",
      "  LONGITUDE = \u001b[32mcol_double()\u001b[39m,\n",
      "  STATION = \u001b[31mcol_character()\u001b[39m,\n",
      "  STRATUM = \u001b[32mcol_double()\u001b[39m,\n",
      "  YEAR = \u001b[32mcol_double()\u001b[39m,\n",
      "  DATETIME = \u001b[31mcol_character()\u001b[39m,\n",
      "  WTCPUE = \u001b[32mcol_double()\u001b[39m,\n",
      "  NUMCPUE = \u001b[32mcol_double()\u001b[39m,\n",
      "  COMMON = \u001b[31mcol_character()\u001b[39m,\n",
      "  SCIENTIFIC = \u001b[31mcol_character()\u001b[39m,\n",
      "  SID = \u001b[32mcol_double()\u001b[39m,\n",
      "  BOT_DEPTH = \u001b[32mcol_double()\u001b[39m,\n",
      "  BOT_TEMP = \u001b[32mcol_double()\u001b[39m,\n",
      "  SURF_TEMP = \u001b[32mcol_double()\u001b[39m,\n",
      "  VESSEL = \u001b[32mcol_double()\u001b[39m,\n",
      "  CRUISE = \u001b[32mcol_double()\u001b[39m,\n",
      "  HAUL = \u001b[32mcol_double()\u001b[39m\n",
      ")\n",
      "\n",
      "Parsed with column specification:\n",
      "cols(\n",
      "  LATITUDE = \u001b[32mcol_double()\u001b[39m,\n",
      "  LONGITUDE = \u001b[32mcol_double()\u001b[39m,\n",
      "  STATION = \u001b[31mcol_character()\u001b[39m,\n",
      "  STRATUM = \u001b[32mcol_double()\u001b[39m,\n",
      "  YEAR = \u001b[32mcol_double()\u001b[39m,\n",
      "  DATETIME = \u001b[31mcol_character()\u001b[39m,\n",
      "  WTCPUE = \u001b[32mcol_double()\u001b[39m,\n",
      "  NUMCPUE = \u001b[32mcol_double()\u001b[39m,\n",
      "  COMMON = \u001b[31mcol_character()\u001b[39m,\n",
      "  SCIENTIFIC = \u001b[31mcol_character()\u001b[39m,\n",
      "  SID = \u001b[32mcol_double()\u001b[39m,\n",
      "  BOT_DEPTH = \u001b[32mcol_double()\u001b[39m,\n",
      "  BOT_TEMP = \u001b[32mcol_double()\u001b[39m,\n",
      "  SURF_TEMP = \u001b[32mcol_double()\u001b[39m,\n",
      "  VESSEL = \u001b[32mcol_double()\u001b[39m,\n",
      "  CRUISE = \u001b[32mcol_double()\u001b[39m,\n",
      "  HAUL = \u001b[32mcol_double()\u001b[39m\n",
      ")\n",
      "\n",
      "Warning message:\n",
      "“13 parsing failures.\n",
      "  row       col expected    actual                                                                                    file\n",
      "49999 LATITUDE  a double LATITUDE  'https://github.com/pinskylab/OceanAdapt/blob/master/data_raw/ai2002_2012.csv?raw=true'\n",
      "49999 LONGITUDE a double LONGITUDE 'https://github.com/pinskylab/OceanAdapt/blob/master/data_raw/ai2002_2012.csv?raw=true'\n",
      "49999 STRATUM   a double STRATUM   'https://github.com/pinskylab/OceanAdapt/blob/master/data_raw/ai2002_2012.csv?raw=true'\n",
      "49999 YEAR      a double YEAR      'https://github.com/pinskylab/OceanAdapt/blob/master/data_raw/ai2002_2012.csv?raw=true'\n",
      "49999 WTCPUE    a double WTCPUE    'https://github.com/pinskylab/OceanAdapt/blob/master/data_raw/ai2002_2012.csv?raw=true'\n",
      "..... ......... ........ ......... .......................................................................................\n",
      "See problems(...) for more details.\n",
      "”\n"
     ]
    }
   ],
   "source": [
    "files <- as.list(\n",
    "  c(\"https://github.com/pinskylab/OceanAdapt/blob/master/data_raw/ai1983_2000.csv?raw=true\",\n",
    "    \"https://github.com/pinskylab/OceanAdapt/blob/master/data_raw/ai2002_2012.csv?raw=true\", \n",
    "    \"https://github.com/pinskylab/OceanAdapt/blob/master/data_raw/ai2014_2018.csv?raw=true\"))\n",
    "\n",
    "# exclude the strata file and the raw 2014-2016 data file which has been fixed in temp_csv\n",
    "files <- files[-c(grep(\"2014\", files))]\n",
    "\n",
    "ai_data <- files %>% \n",
    "  map_dfr(read_csv) %>%\n",
    "  rbind(temp_csv) %>% \n",
    "  filter(LATITUDE != \"LATITUDE\", !is.na(LATITUDE)) %>% \n",
    "  mutate(COMMON = str_trim(COMMON), \n",
    "         SCIENTIFIC = str_trim(SCIENTIFIC))"
   ]
  },
  {
   "cell_type": "code",
   "execution_count": 9,
   "metadata": {},
   "outputs": [
    {
     "data": {
      "text/html": [
       "<table>\n",
       "<caption>A tibble: 6 × 17</caption>\n",
       "<thead>\n",
       "\t<tr><th scope=col>LATITUDE</th><th scope=col>LONGITUDE</th><th scope=col>STATION</th><th scope=col>STRATUM</th><th scope=col>YEAR</th><th scope=col>DATETIME</th><th scope=col>WTCPUE</th><th scope=col>NUMCPUE</th><th scope=col>COMMON</th><th scope=col>SCIENTIFIC</th><th scope=col>SID</th><th scope=col>BOT_DEPTH</th><th scope=col>BOT_TEMP</th><th scope=col>SURF_TEMP</th><th scope=col>VESSEL</th><th scope=col>CRUISE</th><th scope=col>HAUL</th></tr>\n",
       "\t<tr><th scope=col>&lt;dbl&gt;</th><th scope=col>&lt;dbl&gt;</th><th scope=col>&lt;chr&gt;</th><th scope=col>&lt;dbl&gt;</th><th scope=col>&lt;dbl&gt;</th><th scope=col>&lt;chr&gt;</th><th scope=col>&lt;dbl&gt;</th><th scope=col>&lt;dbl&gt;</th><th scope=col>&lt;chr&gt;</th><th scope=col>&lt;chr&gt;</th><th scope=col>&lt;dbl&gt;</th><th scope=col>&lt;dbl&gt;</th><th scope=col>&lt;dbl&gt;</th><th scope=col>&lt;dbl&gt;</th><th scope=col>&lt;dbl&gt;</th><th scope=col>&lt;dbl&gt;</th><th scope=col>&lt;dbl&gt;</th></tr>\n",
       "</thead>\n",
       "<tbody>\n",
       "\t<tr><td>53.18833</td><td>-169.6667</td><td>271-51</td><td>794</td><td>1983</td><td>08/23/1983 22:00</td><td>8.5509</td><td>    5.6851</td><td>arrowtooth flounder     </td><td>Atheresthes stomias      </td><td>10110</td><td>401</td><td>3.5</td><td>6.4</td><td>554</td><td>198301</td><td>108</td></tr>\n",
       "\t<tr><td>53.22000</td><td> 170.7133</td><td>11-51 </td><td>213</td><td>1983</td><td>10/31/1983 23:00</td><td>1.9251</td><td>    0.3439</td><td>skate unid.             </td><td>Rajidae                  </td><td>  400</td><td>219</td><td>3.8</td><td>6.3</td><td>554</td><td>198301</td><td>261</td></tr>\n",
       "\t<tr><td>53.22000</td><td> 170.7133</td><td>11-51 </td><td>213</td><td>1983</td><td>10/31/1983 23:00</td><td>7.5880</td><td>-9999.0000</td><td>magistrate armhook squid</td><td>Berryteuthis magister    </td><td>79210</td><td>219</td><td>3.8</td><td>6.3</td><td>554</td><td>198301</td><td>261</td></tr>\n",
       "\t<tr><td>53.22000</td><td> 170.7133</td><td>11-51 </td><td>213</td><td>1983</td><td>10/31/1983 23:00</td><td>0.0406</td><td>    0.0688</td><td>flathead sole           </td><td>Hippoglossoides elassodon</td><td>10130</td><td>219</td><td>3.8</td><td>6.3</td><td>554</td><td>198301</td><td>261</td></tr>\n",
       "\t<tr><td>53.22000</td><td> 170.7133</td><td>11-51 </td><td>213</td><td>1983</td><td>10/31/1983 23:00</td><td>0.1092</td><td>    0.2064</td><td>rock sole unid.         </td><td>Lepidopsetta sp.         </td><td>10260</td><td>219</td><td>3.8</td><td>6.3</td><td>554</td><td>198301</td><td>261</td></tr>\n",
       "\t<tr><td>53.22000</td><td> 170.7133</td><td>11-51 </td><td>213</td><td>1983</td><td>10/31/1983 23:00</td><td>0.0063</td><td>    0.0688</td><td>searcher                </td><td>Bathymaster signatus     </td><td>20720</td><td>219</td><td>3.8</td><td>6.3</td><td>554</td><td>198301</td><td>261</td></tr>\n",
       "</tbody>\n",
       "</table>\n"
      ],
      "text/latex": [
       "A tibble: 6 × 17\n",
       "\\begin{tabular}{r|lllllllllllllllll}\n",
       " LATITUDE & LONGITUDE & STATION & STRATUM & YEAR & DATETIME & WTCPUE & NUMCPUE & COMMON & SCIENTIFIC & SID & BOT\\_DEPTH & BOT\\_TEMP & SURF\\_TEMP & VESSEL & CRUISE & HAUL\\\\\n",
       " <dbl> & <dbl> & <chr> & <dbl> & <dbl> & <chr> & <dbl> & <dbl> & <chr> & <chr> & <dbl> & <dbl> & <dbl> & <dbl> & <dbl> & <dbl> & <dbl>\\\\\n",
       "\\hline\n",
       "\t 53.18833 & -169.6667 & 271-51 & 794 & 1983 & 08/23/1983 22:00 & 8.5509 &     5.6851 & arrowtooth flounder      & Atheresthes stomias       & 10110 & 401 & 3.5 & 6.4 & 554 & 198301 & 108\\\\\n",
       "\t 53.22000 &  170.7133 & 11-51  & 213 & 1983 & 10/31/1983 23:00 & 1.9251 &     0.3439 & skate unid.              & Rajidae                   &   400 & 219 & 3.8 & 6.3 & 554 & 198301 & 261\\\\\n",
       "\t 53.22000 &  170.7133 & 11-51  & 213 & 1983 & 10/31/1983 23:00 & 7.5880 & -9999.0000 & magistrate armhook squid & Berryteuthis magister     & 79210 & 219 & 3.8 & 6.3 & 554 & 198301 & 261\\\\\n",
       "\t 53.22000 &  170.7133 & 11-51  & 213 & 1983 & 10/31/1983 23:00 & 0.0406 &     0.0688 & flathead sole            & Hippoglossoides elassodon & 10130 & 219 & 3.8 & 6.3 & 554 & 198301 & 261\\\\\n",
       "\t 53.22000 &  170.7133 & 11-51  & 213 & 1983 & 10/31/1983 23:00 & 0.1092 &     0.2064 & rock sole unid.          & Lepidopsetta sp.          & 10260 & 219 & 3.8 & 6.3 & 554 & 198301 & 261\\\\\n",
       "\t 53.22000 &  170.7133 & 11-51  & 213 & 1983 & 10/31/1983 23:00 & 0.0063 &     0.0688 & searcher                 & Bathymaster signatus      & 20720 & 219 & 3.8 & 6.3 & 554 & 198301 & 261\\\\\n",
       "\\end{tabular}\n"
      ],
      "text/markdown": [
       "\n",
       "A tibble: 6 × 17\n",
       "\n",
       "| LATITUDE &lt;dbl&gt; | LONGITUDE &lt;dbl&gt; | STATION &lt;chr&gt; | STRATUM &lt;dbl&gt; | YEAR &lt;dbl&gt; | DATETIME &lt;chr&gt; | WTCPUE &lt;dbl&gt; | NUMCPUE &lt;dbl&gt; | COMMON &lt;chr&gt; | SCIENTIFIC &lt;chr&gt; | SID &lt;dbl&gt; | BOT_DEPTH &lt;dbl&gt; | BOT_TEMP &lt;dbl&gt; | SURF_TEMP &lt;dbl&gt; | VESSEL &lt;dbl&gt; | CRUISE &lt;dbl&gt; | HAUL &lt;dbl&gt; |\n",
       "|---|---|---|---|---|---|---|---|---|---|---|---|---|---|---|---|---|\n",
       "| 53.18833 | -169.6667 | 271-51 | 794 | 1983 | 08/23/1983 22:00 | 8.5509 |     5.6851 | arrowtooth flounder      | Atheresthes stomias       | 10110 | 401 | 3.5 | 6.4 | 554 | 198301 | 108 |\n",
       "| 53.22000 |  170.7133 | 11-51  | 213 | 1983 | 10/31/1983 23:00 | 1.9251 |     0.3439 | skate unid.              | Rajidae                   |   400 | 219 | 3.8 | 6.3 | 554 | 198301 | 261 |\n",
       "| 53.22000 |  170.7133 | 11-51  | 213 | 1983 | 10/31/1983 23:00 | 7.5880 | -9999.0000 | magistrate armhook squid | Berryteuthis magister     | 79210 | 219 | 3.8 | 6.3 | 554 | 198301 | 261 |\n",
       "| 53.22000 |  170.7133 | 11-51  | 213 | 1983 | 10/31/1983 23:00 | 0.0406 |     0.0688 | flathead sole            | Hippoglossoides elassodon | 10130 | 219 | 3.8 | 6.3 | 554 | 198301 | 261 |\n",
       "| 53.22000 |  170.7133 | 11-51  | 213 | 1983 | 10/31/1983 23:00 | 0.1092 |     0.2064 | rock sole unid.          | Lepidopsetta sp.          | 10260 | 219 | 3.8 | 6.3 | 554 | 198301 | 261 |\n",
       "| 53.22000 |  170.7133 | 11-51  | 213 | 1983 | 10/31/1983 23:00 | 0.0063 |     0.0688 | searcher                 | Bathymaster signatus      | 20720 | 219 | 3.8 | 6.3 | 554 | 198301 | 261 |\n",
       "\n"
      ],
      "text/plain": [
       "  LATITUDE LONGITUDE STATION STRATUM YEAR DATETIME         WTCPUE NUMCPUE   \n",
       "1 53.18833 -169.6667 271-51  794     1983 08/23/1983 22:00 8.5509     5.6851\n",
       "2 53.22000  170.7133 11-51   213     1983 10/31/1983 23:00 1.9251     0.3439\n",
       "3 53.22000  170.7133 11-51   213     1983 10/31/1983 23:00 7.5880 -9999.0000\n",
       "4 53.22000  170.7133 11-51   213     1983 10/31/1983 23:00 0.0406     0.0688\n",
       "5 53.22000  170.7133 11-51   213     1983 10/31/1983 23:00 0.1092     0.2064\n",
       "6 53.22000  170.7133 11-51   213     1983 10/31/1983 23:00 0.0063     0.0688\n",
       "  COMMON                   SCIENTIFIC                SID   BOT_DEPTH BOT_TEMP\n",
       "1 arrowtooth flounder      Atheresthes stomias       10110 401       3.5     \n",
       "2 skate unid.              Rajidae                     400 219       3.8     \n",
       "3 magistrate armhook squid Berryteuthis magister     79210 219       3.8     \n",
       "4 flathead sole            Hippoglossoides elassodon 10130 219       3.8     \n",
       "5 rock sole unid.          Lepidopsetta sp.          10260 219       3.8     \n",
       "6 searcher                 Bathymaster signatus      20720 219       3.8     \n",
       "  SURF_TEMP VESSEL CRUISE HAUL\n",
       "1 6.4       554    198301 108 \n",
       "2 6.3       554    198301 261 \n",
       "3 6.3       554    198301 261 \n",
       "4 6.3       554    198301 261 \n",
       "5 6.3       554    198301 261 \n",
       "6 6.3       554    198301 261 "
      ]
     },
     "metadata": {},
     "output_type": "display_data"
    }
   ],
   "source": [
    "head(ai_data)"
   ]
  },
  {
   "cell_type": "markdown",
   "metadata": {},
   "source": [
    "## Connect to the database and add the data"
   ]
  },
  {
   "cell_type": "code",
   "execution_count": 14,
   "metadata": {},
   "outputs": [],
   "source": [
    "db <- src_sqlite(\"oceanadapt.db\", create = FALSE)"
   ]
  },
  {
   "cell_type": "code",
   "execution_count": 17,
   "metadata": {},
   "outputs": [
    {
     "name": "stderr",
     "output_type": "stream",
     "text": [
      "Warning message in .local(conn, statement, ...):\n",
      "“partial argument match of 'param' to 'params'”\n"
     ]
    }
   ],
   "source": [
    "copy_to(db, ai_data, \"aleutian_islands_surveys\", temporary = FALSE)\n"
   ]
  },
  {
   "cell_type": "markdown",
   "metadata": {},
   "source": [
    "Check that it worked"
   ]
  },
  {
   "cell_type": "code",
   "execution_count": 18,
   "metadata": {},
   "outputs": [
    {
     "data": {
      "text/html": [
       "<table>\n",
       "<caption>A tibble: 6 × 17</caption>\n",
       "<thead>\n",
       "\t<tr><th scope=col>LATITUDE</th><th scope=col>LONGITUDE</th><th scope=col>STATION</th><th scope=col>STRATUM</th><th scope=col>YEAR</th><th scope=col>DATETIME</th><th scope=col>WTCPUE</th><th scope=col>NUMCPUE</th><th scope=col>COMMON</th><th scope=col>SCIENTIFIC</th><th scope=col>SID</th><th scope=col>BOT_DEPTH</th><th scope=col>BOT_TEMP</th><th scope=col>SURF_TEMP</th><th scope=col>VESSEL</th><th scope=col>CRUISE</th><th scope=col>HAUL</th></tr>\n",
       "\t<tr><th scope=col>&lt;dbl&gt;</th><th scope=col>&lt;dbl&gt;</th><th scope=col>&lt;chr&gt;</th><th scope=col>&lt;dbl&gt;</th><th scope=col>&lt;dbl&gt;</th><th scope=col>&lt;chr&gt;</th><th scope=col>&lt;dbl&gt;</th><th scope=col>&lt;dbl&gt;</th><th scope=col>&lt;chr&gt;</th><th scope=col>&lt;chr&gt;</th><th scope=col>&lt;dbl&gt;</th><th scope=col>&lt;dbl&gt;</th><th scope=col>&lt;dbl&gt;</th><th scope=col>&lt;dbl&gt;</th><th scope=col>&lt;dbl&gt;</th><th scope=col>&lt;dbl&gt;</th><th scope=col>&lt;dbl&gt;</th></tr>\n",
       "</thead>\n",
       "<tbody>\n",
       "\t<tr><td>53.18833</td><td>-169.6667</td><td>271-51</td><td>794</td><td>1983</td><td>08/23/1983 22:00</td><td>8.5509</td><td>    5.6851</td><td>arrowtooth flounder     </td><td>Atheresthes stomias      </td><td>10110</td><td>401</td><td>3.5</td><td>6.4</td><td>554</td><td>198301</td><td>108</td></tr>\n",
       "\t<tr><td>53.22000</td><td> 170.7133</td><td>11-51 </td><td>213</td><td>1983</td><td>10/31/1983 23:00</td><td>1.9251</td><td>    0.3439</td><td>skate unid.             </td><td>Rajidae                  </td><td>  400</td><td>219</td><td>3.8</td><td>6.3</td><td>554</td><td>198301</td><td>261</td></tr>\n",
       "\t<tr><td>53.22000</td><td> 170.7133</td><td>11-51 </td><td>213</td><td>1983</td><td>10/31/1983 23:00</td><td>7.5880</td><td>-9999.0000</td><td>magistrate armhook squid</td><td>Berryteuthis magister    </td><td>79210</td><td>219</td><td>3.8</td><td>6.3</td><td>554</td><td>198301</td><td>261</td></tr>\n",
       "\t<tr><td>53.22000</td><td> 170.7133</td><td>11-51 </td><td>213</td><td>1983</td><td>10/31/1983 23:00</td><td>0.0406</td><td>    0.0688</td><td>flathead sole           </td><td>Hippoglossoides elassodon</td><td>10130</td><td>219</td><td>3.8</td><td>6.3</td><td>554</td><td>198301</td><td>261</td></tr>\n",
       "\t<tr><td>53.22000</td><td> 170.7133</td><td>11-51 </td><td>213</td><td>1983</td><td>10/31/1983 23:00</td><td>0.1092</td><td>    0.2064</td><td>rock sole unid.         </td><td>Lepidopsetta sp.         </td><td>10260</td><td>219</td><td>3.8</td><td>6.3</td><td>554</td><td>198301</td><td>261</td></tr>\n",
       "\t<tr><td>53.22000</td><td> 170.7133</td><td>11-51 </td><td>213</td><td>1983</td><td>10/31/1983 23:00</td><td>0.0063</td><td>    0.0688</td><td>searcher                </td><td>Bathymaster signatus     </td><td>20720</td><td>219</td><td>3.8</td><td>6.3</td><td>554</td><td>198301</td><td>261</td></tr>\n",
       "</tbody>\n",
       "</table>\n"
      ],
      "text/latex": [
       "A tibble: 6 × 17\n",
       "\\begin{tabular}{r|lllllllllllllllll}\n",
       " LATITUDE & LONGITUDE & STATION & STRATUM & YEAR & DATETIME & WTCPUE & NUMCPUE & COMMON & SCIENTIFIC & SID & BOT\\_DEPTH & BOT\\_TEMP & SURF\\_TEMP & VESSEL & CRUISE & HAUL\\\\\n",
       " <dbl> & <dbl> & <chr> & <dbl> & <dbl> & <chr> & <dbl> & <dbl> & <chr> & <chr> & <dbl> & <dbl> & <dbl> & <dbl> & <dbl> & <dbl> & <dbl>\\\\\n",
       "\\hline\n",
       "\t 53.18833 & -169.6667 & 271-51 & 794 & 1983 & 08/23/1983 22:00 & 8.5509 &     5.6851 & arrowtooth flounder      & Atheresthes stomias       & 10110 & 401 & 3.5 & 6.4 & 554 & 198301 & 108\\\\\n",
       "\t 53.22000 &  170.7133 & 11-51  & 213 & 1983 & 10/31/1983 23:00 & 1.9251 &     0.3439 & skate unid.              & Rajidae                   &   400 & 219 & 3.8 & 6.3 & 554 & 198301 & 261\\\\\n",
       "\t 53.22000 &  170.7133 & 11-51  & 213 & 1983 & 10/31/1983 23:00 & 7.5880 & -9999.0000 & magistrate armhook squid & Berryteuthis magister     & 79210 & 219 & 3.8 & 6.3 & 554 & 198301 & 261\\\\\n",
       "\t 53.22000 &  170.7133 & 11-51  & 213 & 1983 & 10/31/1983 23:00 & 0.0406 &     0.0688 & flathead sole            & Hippoglossoides elassodon & 10130 & 219 & 3.8 & 6.3 & 554 & 198301 & 261\\\\\n",
       "\t 53.22000 &  170.7133 & 11-51  & 213 & 1983 & 10/31/1983 23:00 & 0.1092 &     0.2064 & rock sole unid.          & Lepidopsetta sp.          & 10260 & 219 & 3.8 & 6.3 & 554 & 198301 & 261\\\\\n",
       "\t 53.22000 &  170.7133 & 11-51  & 213 & 1983 & 10/31/1983 23:00 & 0.0063 &     0.0688 & searcher                 & Bathymaster signatus      & 20720 & 219 & 3.8 & 6.3 & 554 & 198301 & 261\\\\\n",
       "\\end{tabular}\n"
      ],
      "text/markdown": [
       "\n",
       "A tibble: 6 × 17\n",
       "\n",
       "| LATITUDE &lt;dbl&gt; | LONGITUDE &lt;dbl&gt; | STATION &lt;chr&gt; | STRATUM &lt;dbl&gt; | YEAR &lt;dbl&gt; | DATETIME &lt;chr&gt; | WTCPUE &lt;dbl&gt; | NUMCPUE &lt;dbl&gt; | COMMON &lt;chr&gt; | SCIENTIFIC &lt;chr&gt; | SID &lt;dbl&gt; | BOT_DEPTH &lt;dbl&gt; | BOT_TEMP &lt;dbl&gt; | SURF_TEMP &lt;dbl&gt; | VESSEL &lt;dbl&gt; | CRUISE &lt;dbl&gt; | HAUL &lt;dbl&gt; |\n",
       "|---|---|---|---|---|---|---|---|---|---|---|---|---|---|---|---|---|\n",
       "| 53.18833 | -169.6667 | 271-51 | 794 | 1983 | 08/23/1983 22:00 | 8.5509 |     5.6851 | arrowtooth flounder      | Atheresthes stomias       | 10110 | 401 | 3.5 | 6.4 | 554 | 198301 | 108 |\n",
       "| 53.22000 |  170.7133 | 11-51  | 213 | 1983 | 10/31/1983 23:00 | 1.9251 |     0.3439 | skate unid.              | Rajidae                   |   400 | 219 | 3.8 | 6.3 | 554 | 198301 | 261 |\n",
       "| 53.22000 |  170.7133 | 11-51  | 213 | 1983 | 10/31/1983 23:00 | 7.5880 | -9999.0000 | magistrate armhook squid | Berryteuthis magister     | 79210 | 219 | 3.8 | 6.3 | 554 | 198301 | 261 |\n",
       "| 53.22000 |  170.7133 | 11-51  | 213 | 1983 | 10/31/1983 23:00 | 0.0406 |     0.0688 | flathead sole            | Hippoglossoides elassodon | 10130 | 219 | 3.8 | 6.3 | 554 | 198301 | 261 |\n",
       "| 53.22000 |  170.7133 | 11-51  | 213 | 1983 | 10/31/1983 23:00 | 0.1092 |     0.2064 | rock sole unid.          | Lepidopsetta sp.          | 10260 | 219 | 3.8 | 6.3 | 554 | 198301 | 261 |\n",
       "| 53.22000 |  170.7133 | 11-51  | 213 | 1983 | 10/31/1983 23:00 | 0.0063 |     0.0688 | searcher                 | Bathymaster signatus      | 20720 | 219 | 3.8 | 6.3 | 554 | 198301 | 261 |\n",
       "\n"
      ],
      "text/plain": [
       "  LATITUDE LONGITUDE STATION STRATUM YEAR DATETIME         WTCPUE NUMCPUE   \n",
       "1 53.18833 -169.6667 271-51  794     1983 08/23/1983 22:00 8.5509     5.6851\n",
       "2 53.22000  170.7133 11-51   213     1983 10/31/1983 23:00 1.9251     0.3439\n",
       "3 53.22000  170.7133 11-51   213     1983 10/31/1983 23:00 7.5880 -9999.0000\n",
       "4 53.22000  170.7133 11-51   213     1983 10/31/1983 23:00 0.0406     0.0688\n",
       "5 53.22000  170.7133 11-51   213     1983 10/31/1983 23:00 0.1092     0.2064\n",
       "6 53.22000  170.7133 11-51   213     1983 10/31/1983 23:00 0.0063     0.0688\n",
       "  COMMON                   SCIENTIFIC                SID   BOT_DEPTH BOT_TEMP\n",
       "1 arrowtooth flounder      Atheresthes stomias       10110 401       3.5     \n",
       "2 skate unid.              Rajidae                     400 219       3.8     \n",
       "3 magistrate armhook squid Berryteuthis magister     79210 219       3.8     \n",
       "4 flathead sole            Hippoglossoides elassodon 10130 219       3.8     \n",
       "5 rock sole unid.          Lepidopsetta sp.          10260 219       3.8     \n",
       "6 searcher                 Bathymaster signatus      20720 219       3.8     \n",
       "  SURF_TEMP VESSEL CRUISE HAUL\n",
       "1 6.4       554    198301 108 \n",
       "2 6.3       554    198301 261 \n",
       "3 6.3       554    198301 261 \n",
       "4 6.3       554    198301 261 \n",
       "5 6.3       554    198301 261 \n",
       "6 6.3       554    198301 261 "
      ]
     },
     "metadata": {},
     "output_type": "display_data"
    }
   ],
   "source": [
    "test <- db %>% \n",
    "tbl(\"aleutian_islands_surveys\") %>% \n",
    "collect()\n",
    "\n",
    "head(test)"
   ]
  },
  {
   "cell_type": "markdown",
   "metadata": {},
   "source": [
    "Add strata table"
   ]
  },
  {
   "cell_type": "code",
   "execution_count": null,
   "metadata": {},
   "outputs": [],
   "source": [
    "ai_strata <- read_csv(\"\", col_types = cols(NPFMCArea = col_character(),\n",
    "      SubareaDescription = col_character(),\n",
    "      StratumCode = col_integer(),\n",
    "      DepthIntervalm = col_character(),\n",
    "      Areakm2 = col_integer()\n",
    "    ))  %>% \n",
    "      select(StratumCode, Areakm2) %>% \n",
    "  mutate(stratum = StratumCode)"
   ]
  }
 ],
 "metadata": {
  "kernelspec": {
   "display_name": "R",
   "language": "R",
   "name": "ir"
  },
  "language_info": {
   "codemirror_mode": "r",
   "file_extension": ".r",
   "mimetype": "text/x-r-source",
   "name": "R",
   "pygments_lexer": "r",
   "version": "3.6.1"
  }
 },
 "nbformat": 4,
 "nbformat_minor": 2
}
